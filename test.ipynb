{
 "cells": [
  {
   "cell_type": "code",
   "execution_count": null,
   "id": "efc07a2a",
   "metadata": {},
   "outputs": [],
   "source": [
    "\n",
    "import os\n",
    "from langchain.chat_models import init_chat_model\n",
    "llm = init_chat_model(\"openai:gpt-4.1\")\n",
    "from typing import Annotated\n",
    "import csv\n",
    "from langchain_tavily import TavilySearch\n",
    "from langchain_core.messages import BaseMessage\n",
    "from typing_extensions import TypedDict\n",
    "from langchain_core.tools import tool\n",
    "from langgraph.graph import StateGraph, START, END\n",
    "from langgraph.graph.message import add_messages\n",
    "from langgraph.prebuilt import ToolNode, tools_condition\n",
    "\n",
    "class State(TypedDict):\n",
    "    messages: Annotated[list, add_messages]\n",
    "\n",
    "graph_builder = StateGraph(State)\n",
    "\n",
    "@tool\n",
    "def get_deposits(customer_id: str = None) -> list:\n",
    "    \"\"\"Returns all bank deposits as a list of dicts. Optionally filter by customer_id.\"\"\"\n",
    "    print(\"get_deposits tool called with:\", customer_id)\n",
    "    with open(\"src/assets/Deposits.csv\", newline=\"\", encoding=\"utf-8\") as csvfile:\n",
    "        reader = csv.DictReader(csvfile)\n",
    "        deposits = list(reader)\n",
    "    if customer_id:\n",
    "        deposits = [d for d in deposits if d.get(\"CustomerID\") == customer_id]\n",
    "    return deposits\n",
    "\n",
    "tool = TavilySearch(max_results=2)\n",
    "tools = [tool,get_deposits]\n",
    "llm_with_tools = llm.bind_tools(tools)\n",
    "\n",
    "def chatbot(state: State):\n",
    "    return {\"messages\": [llm_with_tools.invoke(state[\"messages\"])]}\n",
    "\n",
    "graph_builder.add_node(\"chatbot\", chatbot)\n",
    "\n",
    "tool_node = ToolNode(tools=[tool])\n",
    "graph_builder.add_node(\"tools\", tool_node)\n",
    "\n",
    "graph_builder.add_conditional_edges(\n",
    "    \"chatbot\",\n",
    "    tools_condition,\n",
    ")\n",
    "# Any time a tool is called, we return to the chatbot to decide the next step\n",
    "graph_builder.add_edge(\"tools\", \"chatbot\")\n",
    "graph_builder.add_edge(START, \"chatbot\")\n",
    "graph = graph_builder.compile()"
   ]
  },
  {
   "cell_type": "code",
   "execution_count": 11,
   "id": "0c7102e4",
   "metadata": {},
   "outputs": [
    {
     "data": {
      "text/plain": [
       "{'messages': [HumanMessage(content='Tell me about the weather in Pensacola.', additional_kwargs={}, response_metadata={}, id='43f86b71-37d1-4534-8637-701d96052ab1'),\n",
       "  AIMessage(content='', additional_kwargs={'tool_calls': [{'id': 'call_j6ESchxaD1MQHQmHkAdrHbET', 'function': {'arguments': '{\"query\":\"current weather in Pensacola, FL\"}', 'name': 'tavily_search'}, 'type': 'function'}], 'refusal': None}, response_metadata={'token_usage': {'completion_tokens': 22, 'prompt_tokens': 776, 'total_tokens': 798, 'completion_tokens_details': {'accepted_prediction_tokens': 0, 'audio_tokens': 0, 'reasoning_tokens': 0, 'rejected_prediction_tokens': 0}, 'prompt_tokens_details': {'audio_tokens': 0, 'cached_tokens': 0}}, 'model_name': 'gpt-4.1-2025-04-14', 'system_fingerprint': 'fp_799e4ca3f1', 'id': 'chatcmpl-BnWoCFOCPEXIlDrMcIsVJ2ME2BaIQ', 'service_tier': 'default', 'finish_reason': 'tool_calls', 'logprobs': None}, id='run--79e62e3e-13ca-4aaf-9d27-f981de4165e0-0', tool_calls=[{'name': 'tavily_search', 'args': {'query': 'current weather in Pensacola, FL'}, 'id': 'call_j6ESchxaD1MQHQmHkAdrHbET', 'type': 'tool_call'}], usage_metadata={'input_tokens': 776, 'output_tokens': 22, 'total_tokens': 798, 'input_token_details': {'audio': 0, 'cache_read': 0}, 'output_token_details': {'audio': 0, 'reasoning': 0}}),\n",
       "  ToolMessage(content='{\"query\": \"current weather in Pensacola, FL\", \"follow_up_questions\": null, \"answer\": null, \"images\": [], \"results\": [{\"title\": \"Weather in Pensacola, FL\", \"url\": \"https://www.weatherapi.com/\", \"content\": \"{\\'location\\': {\\'name\\': \\'Pensacola\\', \\'region\\': \\'Florida\\', \\'country\\': \\'United States of America\\', \\'lat\\': 30.4211, \\'lon\\': -87.2169, \\'tz_id\\': \\'America/Chicago\\', \\'localtime_epoch\\': 1751143948, \\'localtime\\': \\'2025-06-28 15:52\\'}, \\'current\\': {\\'last_updated_epoch\\': 1751143500, \\'last_updated\\': \\'2025-06-28 15:45\\', \\'temp_c\\': 28.9, \\'temp_f\\': 84.0, \\'is_day\\': 1, \\'condition\\': {\\'text\\': \\'Patchy light rain with thunder\\', \\'icon\\': \\'//cdn.weatherapi.com/weather/64x64/day/386.png\\', \\'code\\': 1273}, \\'wind_mph\\': 9.6, \\'wind_kph\\': 15.5, \\'wind_degree\\': 176, \\'wind_dir\\': \\'S\\', \\'pressure_mb\\': 1019.0, \\'pressure_in\\': 30.1, \\'precip_mm\\': 0.0, \\'precip_in\\': 0.0, \\'humidity\\': 67, \\'cloud\\': 75, \\'feelslike_c\\': 32.6, \\'feelslike_f\\': 90.6, \\'windchill_c\\': 30.1, \\'windchill_f\\': 86.3, \\'heatindex_c\\': 35.6, \\'heatindex_f\\': 96.1, \\'dewpoint_c\\': 24.4, \\'dewpoint_f\\': 75.8, \\'vis_km\\': 16.0, \\'vis_miles\\': 9.0, \\'uv\\': 7.9, \\'gust_mph\\': 11.3, \\'gust_kph\\': 18.2}}\", \"score\": 0.7599309, \"raw_content\": null}, {\"title\": \"Weather in Pensacola in June 2025 (Florida) - detailed Weather Forecast ...\", \"url\": \"https://world-weather.info/forecast/usa/pensacola/june-2025/\", \"content\": \"World United States Florida Weather in Pensacola Weather in Pensacola in June 2025 Pensacola Weather Forecast for June 2025 is based on long term prognosis and previous years\\' statistical data.\", \"score\": 0.58948064, \"raw_content\": null}], \"response_time\": 2.16}', name='tavily_search', id='96fcd7f1-1db7-4298-af2d-e26362e6d459', tool_call_id='call_j6ESchxaD1MQHQmHkAdrHbET'),\n",
       "  AIMessage(content='The current weather in Pensacola, FL is around 84°F (28.9°C) with patchy light rain and some thunder. It feels warmer, around 91°F (32.6°C), due to the humidity. Winds are coming from the south at about 9.6 mph. The sky is mostly cloudy and humidity is at 67%.\\n\\nIf you need a more detailed forecast or hourly updates, let me know!', additional_kwargs={'refusal': None}, response_metadata={'token_usage': {'completion_tokens': 89, 'prompt_tokens': 1384, 'total_tokens': 1473, 'completion_tokens_details': {'accepted_prediction_tokens': 0, 'audio_tokens': 0, 'reasoning_tokens': 0, 'rejected_prediction_tokens': 0}, 'prompt_tokens_details': {'audio_tokens': 0, 'cached_tokens': 0}}, 'model_name': 'gpt-4.1-2025-04-14', 'system_fingerprint': 'fp_799e4ca3f1', 'id': 'chatcmpl-BnWoFiC3ovFJhIRxA8pxRl4I6Yllw', 'service_tier': 'default', 'finish_reason': 'stop', 'logprobs': None}, id='run--aac6fa1f-2552-461e-80c8-3f6ef1637d75-0', usage_metadata={'input_tokens': 1384, 'output_tokens': 89, 'total_tokens': 1473, 'input_token_details': {'audio': 0, 'cache_read': 0}, 'output_token_details': {'audio': 0, 'reasoning': 0}})]}"
      ]
     },
     "execution_count": 11,
     "metadata": {},
     "output_type": "execute_result"
    }
   ],
   "source": [
    "graph.invoke({\"messages\" : {\"role\" : \"user\", \"content\":\"Tell me about the weather in Pensacola.\"}})"
   ]
  },
  {
   "cell_type": "code",
   "execution_count": null,
   "id": "e82834cc",
   "metadata": {},
   "outputs": [],
   "source": [
    "{'messages': [HumanMessage(content='Tell me about the weather in Pensacola.', additional_kwargs={}, response_metadata={}, id='43f86b71-37d1-4534-8637-701d96052ab1'),\n",
    "  AIMessage(content='', additional_kwargs={'tool_calls': [{'id': 'call_j6ESchxaD1MQHQmHkAdrHbET', 'function': {'arguments': '{\"query\":\"current weather in Pensacola, FL\"}', 'name': 'tavily_search'}, 'type': 'function'}], 'refusal': None}, response_metadata={'token_usage': {'completion_tokens': 22, 'prompt_tokens': 776, 'total_tokens': 798, 'completion_tokens_details': {'accepted_prediction_tokens': 0, 'audio_tokens': 0, 'reasoning_tokens': 0, 'rejected_prediction_tokens': 0}, 'prompt_tokens_details': {'audio_tokens': 0, 'cached_tokens': 0}}, 'model_name': 'gpt-4.1-2025-04-14', 'system_fingerprint': 'fp_799e4ca3f1', 'id': 'chatcmpl-BnWoCFOCPEXIlDrMcIsVJ2ME2BaIQ', 'service_tier': 'default', 'finish_reason': 'tool_calls', 'logprobs': None}, id='run--79e62e3e-13ca-4aaf-9d27-f981de4165e0-0', tool_calls=[{'name': 'tavily_search', 'args': {'query': 'current weather in Pensacola, FL'}, 'id': 'call_j6ESchxaD1MQHQmHkAdrHbET', 'type': 'tool_call'}], usage_metadata={'input_tokens': 776, 'output_tokens': 22, 'total_tokens': 798, 'input_token_details': {'audio': 0, 'cache_read': 0}, 'output_token_details': {'audio': 0, 'reasoning': 0}}),\n",
    "  ToolMessage(content='{\"query\": \"current weather in Pensacola, FL\", \"follow_up_questions\": null, \"answer\": null, \"images\": [], \"results\": [{\"title\": \"Weather in Pensacola, FL\", \"url\": \"https://www.weatherapi.com/\", \"content\": \"{\\'location\\': {\\'name\\': \\'Pensacola\\', \\'region\\': \\'Florida\\', \\'country\\': \\'United States of America\\', \\'lat\\': 30.4211, \\'lon\\': -87.2169, \\'tz_id\\': \\'America/Chicago\\', \\'localtime_epoch\\': 1751143948, \\'localtime\\': \\'2025-06-28 15:52\\'}, \\'current\\': {\\'last_updated_epoch\\': 1751143500, \\'last_updated\\': \\'2025-06-28 15:45\\', \\'temp_c\\': 28.9, \\'temp_f\\': 84.0, \\'is_day\\': 1, \\'condition\\': {\\'text\\': \\'Patchy light rain with thunder\\', \\'icon\\': \\'//cdn.weatherapi.com/weather/64x64/day/386.png\\', \\'code\\': 1273}, \\'wind_mph\\': 9.6, \\'wind_kph\\': 15.5, \\'wind_degree\\': 176, \\'wind_dir\\': \\'S\\', \\'pressure_mb\\': 1019.0, \\'pressure_in\\': 30.1, \\'precip_mm\\': 0.0, \\'precip_in\\': 0.0, \\'humidity\\': 67, \\'cloud\\': 75, \\'feelslike_c\\': 32.6, \\'feelslike_f\\': 90.6, \\'windchill_c\\': 30.1, \\'windchill_f\\': 86.3, \\'heatindex_c\\': 35.6, \\'heatindex_f\\': 96.1, \\'dewpoint_c\\': 24.4, \\'dewpoint_f\\': 75.8, \\'vis_km\\': 16.0, \\'vis_miles\\': 9.0, \\'uv\\': 7.9, \\'gust_mph\\': 11.3, \\'gust_kph\\': 18.2}}\", \"score\": 0.7599309, \"raw_content\": null}, {\"title\": \"Weather in Pensacola in June 2025 (Florida) - detailed Weather Forecast ...\", \"url\": \"https://world-weather.info/forecast/usa/pensacola/june-2025/\", \"content\": \"World United States Florida Weather in Pensacola Weather in Pensacola in June 2025 Pensacola Weather Forecast for June 2025 is based on long term prognosis and previous years\\' statistical data.\", \"score\": 0.58948064, \"raw_content\": null}], \"response_time\": 2.16}', name='tavily_search', id='96fcd7f1-1db7-4298-af2d-e26362e6d459', tool_call_id='call_j6ESchxaD1MQHQmHkAdrHbET'),\n",
    "  AIMessage(content='The current weather in Pensacola, FL is around 84°F (28.9°C) with patchy light rain and some thunder. It feels warmer, around 91°F (32.6°C), due to the humidity. Winds are coming from the south at about 9.6 mph. The sky is mostly cloudy and humidity is at 67%.\\n\\nIf you need a more detailed forecast or hourly updates, let me know!', additional_kwargs={'refusal': None}, response_metadata={'token_usage': {'completion_tokens': 89, 'prompt_tokens': 1384, 'total_tokens': 1473, 'completion_tokens_details': {'accepted_prediction_tokens': 0, 'audio_tokens': 0, 'reasoning_tokens': 0, 'rejected_prediction_tokens': 0}, 'prompt_tokens_details': {'audio_tokens': 0, 'cached_tokens': 0}}, 'model_name': 'gpt-4.1-2025-04-14', 'system_fingerprint': 'fp_799e4ca3f1', 'id': 'chatcmpl-BnWoFiC3ovFJhIRxA8pxRl4I6Yllw', 'service_tier': 'default', 'finish_reason': 'stop', 'logprobs': None}, id='run--aac6fa1f-2552-461e-80c8-3f6ef1637d75-0', usage_metadata={'input_tokens': 1384, 'output_tokens': 89, 'total_tokens': 1473, 'input_token_details': {'audio': 0, 'cache_read': 0}, 'output_token_details': {'audio': 0, 'reasoning': 0}})]}"
   ]
  }
 ],
 "metadata": {
  "kernelspec": {
   "display_name": "Python 3",
   "language": "python",
   "name": "python3"
  },
  "language_info": {
   "codemirror_mode": {
    "name": "ipython",
    "version": 3
   },
   "file_extension": ".py",
   "mimetype": "text/x-python",
   "name": "python",
   "nbconvert_exporter": "python",
   "pygments_lexer": "ipython3",
   "version": "3.13.2"
  }
 },
 "nbformat": 4,
 "nbformat_minor": 5
}
