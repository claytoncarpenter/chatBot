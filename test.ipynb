{
 "cells": [
  {
   "cell_type": "code",
   "execution_count": null,
   "id": "efc07a2a",
   "metadata": {},
   "outputs": [],
   "source": [
    "\n",
    "import os\n",
    "from langchain.chat_models import init_chat_model\n",
    "\n",
    "from typing import Annotated\n",
    "import csv\n",
    "from langchain_tavily import TavilySearch\n",
    "from langchain_core.messages import BaseMessage\n",
    "from typing_extensions import TypedDict\n",
    "from langchain_core.tools import tool\n",
    "from langgraph.graph import StateGraph, START, END\n",
    "from langgraph.graph.message import add_messages\n",
    "from langgraph.prebuilt import ToolNode, tools_condition\n",
    "\n",
    "\n",
    "\n",
    "class State(TypedDict):\n",
    "    messages: Annotated[list, add_messages]\n",
    "\n",
    "graph_builder = StateGraph(State)\n",
    "\n",
    "llm = init_chat_model(\"openai:gpt-4.1\")\n",
    "\n",
    "@tool\n",
    "def get_deposits(customer_id: str = None) -> list:\n",
    "    \"\"\"Returns all bank deposits as a list of dicts. Optionally filter by customer_id.\"\"\"\n",
    "    print(\"get_deposits tool called with:\", customer_id)\n",
    "    with open(\"src/assets/Deposits.csv\", newline=\"\", encoding=\"utf-8\") as csvfile:\n",
    "        reader = csv.DictReader(csvfile)\n",
    "        deposits = list(reader)\n",
    "    if customer_id:\n",
    "        deposits = [d for d in deposits if d.get(\"CustomerID\") == customer_id]\n",
    "    return deposits\n",
    "\n",
    "tools = [get_deposits]\n",
    "llm_with_tools = llm.bind_tools(tools)\n",
    "\n",
    "def chatbot(state: State):\n",
    "    return {\"messages\": [llm_with_tools.invoke(state[\"messages\"])]}\n",
    "\n",
    "graph_builder.add_node(\"chatbot\", chatbot)\n",
    "\n",
    "tool_node = ToolNode(tools=tools)\n",
    "graph_builder.add_node(\"tools\", tool_node)\n",
    "\n",
    "graph_builder.add_conditional_edges(\n",
    "    \"chatbot\",\n",
    "    tools_condition,\n",
    ")\n",
    "# Any time a tool is called, we return to the chatbot to decide the next step\n",
    "graph_builder.add_edge(\"tools\", \"chatbot\")\n",
    "graph_builder.add_edge(START, \"chatbot\")\n",
    "graph = graph_builder.compile()"
   ]
  },
  {
   "cell_type": "code",
   "execution_count": 18,
   "id": "0c7102e4",
   "metadata": {},
   "outputs": [
    {
     "name": "stdout",
     "output_type": "stream",
     "text": [
      "get_deposits tool called with: None\n"
     ]
    },
    {
     "data": {
      "text/plain": [
       "{'messages': [HumanMessage(content='Return all bank deposits.', additional_kwargs={}, response_metadata={}, id='2cebf99a-534f-4306-9840-93317f4f223c'),\n",
       "  AIMessage(content='', additional_kwargs={'tool_calls': [{'id': 'call_0SxJK8oZYrNOzVbJFvGAz98z', 'function': {'arguments': '{}', 'name': 'get_deposits'}, 'type': 'function'}], 'refusal': None}, response_metadata={'token_usage': {'completion_tokens': 12, 'prompt_tokens': 69, 'total_tokens': 81, 'completion_tokens_details': {'accepted_prediction_tokens': 0, 'audio_tokens': 0, 'reasoning_tokens': 0, 'rejected_prediction_tokens': 0}, 'prompt_tokens_details': {'audio_tokens': 0, 'cached_tokens': 0}}, 'model_name': 'gpt-4.1-2025-04-14', 'system_fingerprint': 'fp_51e1070cf2', 'id': 'chatcmpl-BnWwMtPaIWjG0Y8EwUAwnC608Ddmz', 'service_tier': 'default', 'finish_reason': 'tool_calls', 'logprobs': None}, id='run--a647cec9-0984-43ed-83e6-d5c771d24904-0', tool_calls=[{'name': 'get_deposits', 'args': {}, 'id': 'call_0SxJK8oZYrNOzVbJFvGAz98z', 'type': 'tool_call'}], usage_metadata={'input_tokens': 69, 'output_tokens': 12, 'total_tokens': 81, 'input_token_details': {'audio': 0, 'cache_read': 0}, 'output_token_details': {'audio': 0, 'reasoning': 0}}),\n",
       "  ToolMessage(content='[{\"Account\": \"111\", \"CustomerID\": \"5\", \"TransactionDate\": \"2025-01-01\", \"Amount\": \"$9,999.00\"}, {\"Account\": \"112\", \"CustomerID\": \"5\", \"TransactionDate\": \"2025-01-02\", \"Amount\": \"$9,999.00\"}, {\"Account\": \"113\", \"CustomerID\": \"5\", \"TransactionDate\": \"2025-01-03\", \"Amount\": \"$9,999.00\"}, {\"Account\": \"213\", \"CustomerID\": \"3\", \"TransactionDate\": \"2025-01-04\", \"Amount\": \"$250.00\"}, {\"Account\": \"123212\", \"CustomerID\": \"56\", \"TransactionDate\": \"2025-01-05\", \"Amount\": \"$111.00\"}, {\"Account\": \"123123\", \"CustomerID\": \"32\", \"TransactionDate\": \"2025-01-06\", \"Amount\": \"$345,000.00\"}, {\"Account\": \"1231\", \"CustomerID\": \"45\", \"TransactionDate\": \"2025-01-07\", \"Amount\": \"$16.00\"}, {\"Account\": \"223\", \"CustomerID\": \"7\", \"TransactionDate\": \"2025-01-08\", \"Amount\": \"$456.00\"}, {\"Account\": \"57457\", \"CustomerID\": \"23\", \"TransactionDate\": \"2025-01-09\", \"Amount\": \"$1,233.00\"}, {\"Account\": \"2341\", \"CustomerID\": \"53\", \"TransactionDate\": \"2025-01-10\", \"Amount\": \"$1,245.00\"}, {\"Account\": \"885\", \"CustomerID\": \"7\", \"TransactionDate\": \"2025-01-11\", \"Amount\": \"$12.00\"}, {\"Account\": \"234\", \"CustomerID\": \"53\", \"TransactionDate\": \"2025-01-12\", \"Amount\": \"$3,124.00\"}, {\"Account\": \"45657\", \"CustomerID\": \"235\", \"TransactionDate\": \"2025-01-13\", \"Amount\": \"$124.00\"}, {\"Account\": \"452\", \"CustomerID\": \"57\", \"TransactionDate\": \"2025-01-14\", \"Amount\": \"$576.00\"}, {\"Account\": \"536\", \"CustomerID\": \"4\", \"TransactionDate\": \"2025-01-15\", \"Amount\": \"$234.00\"}, {\"Account\": \"23355\", \"CustomerID\": \"235\", \"TransactionDate\": \"2025-01-16\", \"Amount\": \"$124.00\"}, {\"Account\": \"235\", \"CustomerID\": \"4\", \"TransactionDate\": \"2025-01-17\", \"Amount\": \"$124.00\"}, {\"Account\": \"634456\", \"CustomerID\": \"656\", \"TransactionDate\": \"2025-01-18\", \"Amount\": \"$647.00\"}, {\"Account\": \"346\", \"CustomerID\": \"234\", \"TransactionDate\": \"2025-01-19\", \"Amount\": \"$4,353.00\"}, {\"Account\": \"345\", \"CustomerID\": \"6\", \"TransactionDate\": \"2025-01-20\", \"Amount\": \"$14.00\"}]', name='get_deposits', id='1433585a-1037-4806-851a-c9c6bffe7468', tool_call_id='call_0SxJK8oZYrNOzVbJFvGAz98z'),\n",
       "  AIMessage(content='Here are all the bank deposits:\\n\\n1. Account: 111, CustomerID: 5, Date: 2025-01-01, Amount: $9,999.00\\n2. Account: 112, CustomerID: 5, Date: 2025-01-02, Amount: $9,999.00\\n3. Account: 113, CustomerID: 5, Date: 2025-01-03, Amount: $9,999.00\\n4. Account: 213, CustomerID: 3, Date: 2025-01-04, Amount: $250.00\\n5. Account: 123212, CustomerID: 56, Date: 2025-01-05, Amount: $111.00\\n6. Account: 123123, CustomerID: 32, Date: 2025-01-06, Amount: $345,000.00\\n7. Account: 1231, CustomerID: 45, Date: 2025-01-07, Amount: $16.00\\n8. Account: 223, CustomerID: 7, Date: 2025-01-08, Amount: $456.00\\n9. Account: 57457, CustomerID: 23, Date: 2025-01-09, Amount: $1,233.00\\n10. Account: 2341, CustomerID: 53, Date: 2025-01-10, Amount: $1,245.00\\n11. Account: 885, CustomerID: 7, Date: 2025-01-11, Amount: $12.00\\n12. Account: 234, CustomerID: 53, Date: 2025-01-12, Amount: $3,124.00\\n13. Account: 45657, CustomerID: 235, Date: 2025-01-13, Amount: $124.00\\n14. Account: 452, CustomerID: 57, Date: 2025-01-14, Amount: $576.00\\n15. Account: 536, CustomerID: 4, Date: 2025-01-15, Amount: $234.00\\n16. Account: 23355, CustomerID: 235, Date: 2025-01-16, Amount: $124.00\\n17. Account: 235, CustomerID: 4, Date: 2025-01-17, Amount: $124.00\\n18. Account: 634456, CustomerID: 656, Date: 2025-01-18, Amount: $647.00\\n19. Account: 346, CustomerID: 234, Date: 2025-01-19, Amount: $4,353.00\\n20. Account: 345, CustomerID: 6, Date: 2025-01-20, Amount: $14.00\\n\\nIf you need more details or a specific analysis, let me know!', additional_kwargs={'refusal': None}, response_metadata={'token_usage': {'completion_tokens': 646, 'prompt_tokens': 777, 'total_tokens': 1423, 'completion_tokens_details': {'accepted_prediction_tokens': 0, 'audio_tokens': 0, 'reasoning_tokens': 0, 'rejected_prediction_tokens': 0}, 'prompt_tokens_details': {'audio_tokens': 0, 'cached_tokens': 0}}, 'model_name': 'gpt-4.1-2025-04-14', 'system_fingerprint': 'fp_51e1070cf2', 'id': 'chatcmpl-BnWwNbl50U1PH3RJRLWfIB2l48oFr', 'service_tier': 'default', 'finish_reason': 'stop', 'logprobs': None}, id='run--1fcb27d1-8b4d-431c-9152-54c7a255413c-0', usage_metadata={'input_tokens': 777, 'output_tokens': 646, 'total_tokens': 1423, 'input_token_details': {'audio': 0, 'cache_read': 0}, 'output_token_details': {'audio': 0, 'reasoning': 0}})]}"
      ]
     },
     "execution_count": 18,
     "metadata": {},
     "output_type": "execute_result"
    }
   ],
   "source": [
    "graph.invoke({\"messages\" : {\"role\" : \"user\", \"content\":\"Return all bank deposits.\"}})"
   ]
  },
  {
   "cell_type": "code",
   "execution_count": null,
   "id": "7963370b",
   "metadata": {},
   "outputs": [],
   "source": [
    "\n",
    "import psycopg2\n",
    "import os\n",
    "\n",
    "conn = psycopg2.connect(\n",
    "    dbname=os.getenv(\"DB_NAME\", \"sarbotdb\"),\n",
    "    user=os.getenv(\"DB_USER\", \"sarbotdb_owner\"),\n",
    "    password=os.getenv(\"NEON_PASS\"),\n",
    "    host=os.getenv(\"DB_HOST\", \"ep-shy-cloud-a8eg2rzb-pooler.eastus2.azure.neon.tech\"),\n",
    "    port=os.getenv(\"DB_PORT\", \"5432\"),\n",
    "    sslmode=\"require\",\n",
    ")\n",
    "query = \"SELECT * FROM public.transactions\"\n",
    "cursor = conn.cursor()\n",
    "cursor.execute(query)\n",
    "deposits = cursor.fetchall()\n",
    "cursor.close()\n",
    "conn.close()\n"
   ]
  },
  {
   "cell_type": "code",
   "execution_count": 8,
   "id": "32298d63",
   "metadata": {},
   "outputs": [
    {
     "data": {
      "text/plain": [
       "[(1, 5, 23, datetime.date(2025, 6, 24), Decimal('9000.00'), 'credit'),\n",
       " (2, 5, 22, datetime.date(2025, 6, 23), Decimal('9900.00'), 'credit'),\n",
       " (3, 5, 22, datetime.date(2025, 6, 22), Decimal('9980.00'), 'credit'),\n",
       " (4, 8, 23, datetime.date(2025, 6, 26), Decimal('155.00'), 'debit'),\n",
       " (5, 9, 44, datetime.date(2025, 6, 25), Decimal('457.00'), 'credit'),\n",
       " (6, 1, 123, datetime.date(2025, 6, 28), Decimal('130800.00'), 'debit'),\n",
       " (7, 1, 123, datetime.date(2025, 6, 27), Decimal('130800.00'), 'credit')]"
      ]
     },
     "execution_count": 8,
     "metadata": {},
     "output_type": "execute_result"
    }
   ],
   "source": [
    "deposits"
   ]
  },
  {
   "cell_type": "code",
   "execution_count": null,
   "id": "ac1eb8ea",
   "metadata": {},
   "outputs": [],
   "source": []
  }
 ],
 "metadata": {
  "kernelspec": {
   "display_name": "Python 3",
   "language": "python",
   "name": "python3"
  },
  "language_info": {
   "codemirror_mode": {
    "name": "ipython",
    "version": 3
   },
   "file_extension": ".py",
   "mimetype": "text/x-python",
   "name": "python",
   "nbconvert_exporter": "python",
   "pygments_lexer": "ipython3",
   "version": "3.13.2"
  }
 },
 "nbformat": 4,
 "nbformat_minor": 5
}
